{
 "cells": [
  {
   "cell_type": "code",
   "execution_count": 1,
   "metadata": {},
   "outputs": [],
   "source": [
    "import numpy as np\n",
    "import os\n",
    "import dill as pickle"
   ]
  },
  {
   "cell_type": "code",
   "execution_count": 2,
   "metadata": {},
   "outputs": [],
   "source": [
    "datadir = 'sim_data/times_test'"
   ]
  },
  {
   "cell_type": "code",
   "execution_count": 3,
   "metadata": {},
   "outputs": [],
   "source": [
    "newt_times = []\n",
    "yuka_times = []\n",
    "with open('times.txt', 'rb') as log:\n",
    "    for i, line in enumerate(log):\n",
    "        if i > 18 and i < 218:\n",
    "            line = str(line).split(' ')\n",
    "            force = line[1]\n",
    "            time = float(line[4])\n",
    "            if force == 'Newtonian':\n",
    "                newt_times.append(time)\n",
    "            else:\n",
    "                yuka_times.append(time)\n",
    "                \n",
    "newt_times = np.array(newt_times)\n",
    "yuka_times = np.array(yuka_times)"
   ]
  },
  {
   "cell_type": "code",
   "execution_count": 4,
   "metadata": {},
   "outputs": [],
   "source": [
    "newt_avg = np.mean(newt_times)\n",
    "yuka_avg = np.mean(yuka_times)/10"
   ]
  },
  {
   "cell_type": "code",
   "execution_count": 5,
   "metadata": {},
   "outputs": [
    {
     "data": {
      "text/plain": [
       "(38.54666666666667, 99.83985999999999)"
      ]
     },
     "execution_count": 5,
     "metadata": {},
     "output_type": "execute_result"
    }
   ],
   "source": [
    "newt_avg, yuka_avg"
   ]
  },
  {
   "cell_type": "code",
   "execution_count": 10,
   "metadata": {},
   "outputs": [],
   "source": [
    "def expected_comp_time(nphi=100, nlambda=3, nsep=1, nheights=1):\n",
    "    single_full_phi = nphi*(newt_avg + yuka_avg*nlambda)\n",
    "    secs = nsep*nheights*single_full_phi\n",
    "    hours = secs/3600\n",
    "    days = hours/24\n",
    "    weeks = days/7\n",
    "    \n",
    "    print(f'Expected to take at minimum {hours:.2f} hours = {days:.2f} days = {weeks:.2f} weeks')\n",
    "    print('With 24 cores, {:.2f} hours = {:.2f} days = {:.2f} weeks'.format(hours/24, days/24, weeks/24))"
   ]
  },
  {
   "cell_type": "code",
   "execution_count": 11,
   "metadata": {},
   "outputs": [
    {
     "name": "stdout",
     "output_type": "stream",
     "text": [
      "Expected to take at minimum 9.39 hours = 0.39 days = 0.06 weeks\n",
      "With 24 cores, 0.39 hours = 0.02 days = 0.00 weeks\n"
     ]
    }
   ],
   "source": [
    "expected_comp_time()"
   ]
  },
  {
   "cell_type": "code",
   "execution_count": null,
   "metadata": {},
   "outputs": [],
   "source": []
  }
 ],
 "metadata": {
  "kernelspec": {
   "display_name": "Python 3",
   "language": "python",
   "name": "python3"
  },
  "language_info": {
   "codemirror_mode": {
    "name": "ipython",
    "version": 3
   },
   "file_extension": ".py",
   "mimetype": "text/x-python",
   "name": "python",
   "nbconvert_exporter": "python",
   "pygments_lexer": "ipython3",
   "version": "3.6.9"
  }
 },
 "nbformat": 4,
 "nbformat_minor": 4
}
