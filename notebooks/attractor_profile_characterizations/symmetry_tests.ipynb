{
 "cells": [
  {
   "cell_type": "code",
   "execution_count": 8,
   "metadata": {},
   "outputs": [],
   "source": [
    "import numpy as np\n",
    "import matplotlib.pyplot as plt\n",
    "from tqdm.notebook import tqdm_notebook\n",
    "from tqdm import tqdm\n",
    "import time\n",
    "from numpy.fft import fft, fftfreq\n",
    "import scipy.interpolate as intp\n",
    "\n",
    "from attractor_profile import attractor_profile\n",
    "\n",
    "import dill as pickle\n",
    "import os\n",
    "\n",
    "import matplotlib\n",
    "\n",
    "%matplotlib inline\n",
    "plt.rcParams['figure.figsize'] = (12,8)"
   ]
  },
  {
   "cell_type": "code",
   "execution_count": 9,
   "metadata": {},
   "outputs": [],
   "source": [
    "class sym_attractor_profile:\n",
    "    \n",
    "    def __init__(self, R, z_size=1, dr=1, dz=1, dphi=1, Rb=5, rhob=1850.):\n",
    "        \n",
    "        # give all params in microns\n",
    "        \n",
    "        self.is_built = False\n",
    "        self.data = {}\n",
    "        self.dphi_i = dphi # in um\n",
    "        self.R = R # in um\n",
    "        \n",
    "        self.Rb = Rb*1e-6\n",
    "        self.rhob = rhob\n",
    "        \n",
    "        # create partitions\n",
    "        \n",
    "        self.n_r = round((R - 0.5*dr) / dr)\n",
    "        self.dr_dyn = (R - 0.5*dr) / self.n_r\n",
    "        \n",
    "        self.n_z = round(z_size / dz)\n",
    "        self.dz_dyn = z_size / self.n_z\n",
    "        \n",
    "        # Center points of radial partitions, in m\n",
    "        rr = np.linspace(self.dr_dyn, R-(self.dr_dyn/2), self.n_r)\n",
    "        self.rr = np.concatenate(([0], rr))*1e-6\n",
    "        \n",
    "        # Center points of z partitons, in m\n",
    "        self.zz = np.linspace(-z_size/2 + self.dz_dyn/2, z_size/2 - self.dz_dyn/2, self.n_z)*1e-6\n",
    "        \n",
    "    def build(self, density_profile, N):\n",
    "        \n",
    "        # density_profile is function that returns density when passed (r,phi,z)\n",
    "        # working in kms\n",
    "        \n",
    "        self.density_profile = density_profile\n",
    "        self.N = N\n",
    "        self.dphi_sector = 2*np.pi/N\n",
    "        self.sum_dm = 0.\n",
    "        \n",
    "        # dr, dz in um: convert\n",
    "        dr = self.dr_dyn*1e-6\n",
    "        dz = self.dz_dyn*1e-6\n",
    "        \n",
    "        self.phis_debug = np.array([])\n",
    "        \n",
    "        for r in tqdm(self.rr, desc='Building Attractor'):\n",
    "            \n",
    "            radial_partition = {}\n",
    "            \n",
    "            # create angular partition, r in m\n",
    "            if r != 0.:\n",
    "                \n",
    "                # calculate the closest number of phi partitions in positive half of sector\n",
    "                # dphi_i given in microns, so convert r back to microns\n",
    "                n_phi = int(round(self.dphi_sector*(r*1e6) / 2*self.dphi_i)) \n",
    "                \n",
    "                if n_phi != 0:\n",
    "                    # get angular partition size - factor of two because upper half considered for n_phi\n",
    "                    dphi_dyn = self.dphi_sector / (2*n_phi) # in rads\n",
    "                    \n",
    "                    # find upper half of partitions, indexing phi at center\n",
    "                    pp_upper = np.linspace(dphi_dyn/2, (self.dphi_sector - dphi_dyn)/2, n_phi)\n",
    "                    # get lower half of partitions\n",
    "                    pp_lower = 2*np.pi - np.flip(pp_upper)\n",
    "                    # combine\n",
    "                    pp = np.concatenate((pp_upper, pp_lower))\n",
    "                    \n",
    "                    # initialize data array with correct size\n",
    "                    data = np.zeros((self.zz.size, 2*n_phi))\n",
    "                    \n",
    "                else: \n",
    "                    # if arc length at radius smaller than one micron, no need to partition\n",
    "                    n_phi = 1\n",
    "                    dphi_dyn = self.dphi_sector\n",
    "                    pp = np.array([0.])\n",
    "                    data = np.zeros((self.zz.size, 1))\n",
    "                    \n",
    "                self.phis_debug = np.concatenate((self.phis_debug, pp))\n",
    "                    \n",
    "                dV = r*dr*dphi_dyn*dz\n",
    "                \n",
    "                # for i,z in enumerate(self.zz):\n",
    "                # cylindrical symmetry for now\n",
    "                for j,phi in enumerate(pp):\n",
    "                    rho = density_profile((r, phi, z)) # kg/m^3\n",
    "                    dm = rho*dV # kg\n",
    "                    data[:,j] = dm\n",
    "\n",
    "                    self.sum_dm += dm*self.zz.size\n",
    "\n",
    "                radial_partition = {'params': (self.dr_dyn, dphi_dyn, self.dz_dyn, pp), 'data': data}\n",
    "\n",
    "            else: # r == 0\n",
    "                \n",
    "                data = np.zeros(self.zz.size)\n",
    "                dV = np.pi*(dr/2)**2 * dz # m^3\n",
    "                \n",
    "                for i,z in enumerate(self.zz):\n",
    "                    rho = density_profile((0.,0.,z)) # kg/m^3\n",
    "                    dm = rho*dV  # kg\n",
    "                    data[i] = dm\n",
    "                    self.sum_dm += dm\n",
    "                    \n",
    "                radial_partition = {'params': (self.dr_dyn/2, 2*np.pi, self.dz_dyn, np.array([0.])), 'data': data} # phi value for center? None?\n",
    "\n",
    "            self.data[r] = radial_partition\n",
    "        \n",
    "        self.is_built = True\n",
    "        self.build_numpy()\n",
    "        \n",
    "    def build_numpy(self):\n",
    "        \n",
    "        # get biggest data list\n",
    "        max_dm_size = self.data[self.rr[-1]]['data'].shape[1]\n",
    "        \n",
    "        self.mass_arr = np.zeros((self.rr.size, self.zz.size, max_dm_size))\n",
    "        self.phis_arr = np.zeros((self.rr.size, max_dm_size))\n",
    "        self.sizes = np.zeros(self.rr.size, dtype=np.int16)\n",
    "        \n",
    "        i = -1\n",
    "        for r, partition in self.data.items():     \n",
    "            i += 1\n",
    "            \n",
    "            dm_arr = partition['data'] # shape??\n",
    "            if len(dm_arr.shape) == 1:\n",
    "                dm_arr = np.reshape(dm_arr, (dm_arr.size, 1))\n",
    "            pp = partition['params'][3]\n",
    "            size = int(pp.size)\n",
    "            \n",
    "            self.sizes[i] = size\n",
    "            self.phis_arr[i,:size] = pp\n",
    "            self.mass_arr[i,:,:size] = dm_arr\n",
    "            \n",
    "        \n",
    "    def sector_newtonian(self, rb_vec):\n",
    "        \n",
    "        # rb_vec given in um, tuple\n",
    "        \n",
    "        G = 6.67e-11\n",
    "        Fg = np.array([0.,0.,0.])\n",
    "        rb, pb, zb = rb_vec\n",
    "        rb = rb*1e-6\n",
    "        zb = zb*1e-6\n",
    "\n",
    "        for i,r in enumerate(self.rr):      \n",
    "            \n",
    "            dm_arr = self.mass_arr[i,:,:self.sizes[i]].T # transpose here for shape, fix in build attractor?\n",
    "            pp = self.phis_arr[i,:self.sizes[i]]\n",
    "            \n",
    "            if np.sum(dm_arr) != 0.:\n",
    "                # create coordinate arrays to compute force vector at\n",
    "                psep, zsep = np.meshgrid(pp - pb, self.zz - zb, indexing='ij')\n",
    "                rsep = rb - r\n",
    "\n",
    "                # separation between attractor mesh and bead\n",
    "                sep = np.sqrt((rb**2) + (r**2) - 2*rb*r*np.cos(psep) + zsep**2)\n",
    "\n",
    "                # separation in only r,phi\n",
    "                sep_rp = np.sqrt((rb**2) + (r**2) - 2*rb*r*np.cos(psep))\n",
    "\n",
    "                if r == 0.:\n",
    "                    sep = np.reshape(sep, dm_arr.shape)\n",
    "\n",
    "                # get full vector force at every point in meshgrid (i.e. every r,phi,z in partition)\n",
    "                full_vec_force = -1.0 * (4.*G*dm_arr*self.rhob*np.pi*self.Rb**3)/(3.*sep**2)\n",
    "\n",
    "                # get projections onto each unit vector and sum the force at all points on the partition\n",
    "                Fg[0] += np.sum(full_vec_force * (rb-r*np.cos(psep))/sep_rp)\n",
    "                Fg[1] += np.sum(full_vec_force * (r*np.sin(psep))/sep_rp)\n",
    "                Fg[2] += np.sum(full_vec_force * (zsep/sep))   \n",
    "\n",
    "        return Fg\n",
    "    \n",
    "    def newtonian(self, rb_vec, debug=False):\n",
    "        \n",
    "        rb, phib, zb = rb_vec\n",
    "        \n",
    "        # effective bead positions for missing slices\n",
    "        phis = np.arange(phib, 2*np.pi + phib, self.dphi_sector)  \n",
    "        \n",
    "        phis[phis>2*np.pi] -= 2*np.pi\n",
    "        phis[phis<0] += 2*np.pi\n",
    "        \n",
    "        Fg = np.zeros((3, phis.size))\n",
    "        \n",
    "        comptimes = []\n",
    "        addtimes = []\n",
    "        for i,phi in enumerate(phis):\n",
    "            rb_vec = (rb, phi, zb)\n",
    "            start = time.time()\n",
    "            Fgi = self.sector_newtonian(rb_vec)\n",
    "            middle = time.time()\n",
    "            Fg[:,i] = Fgi\n",
    "            end = time.time()\n",
    "            \n",
    "            if Fgi[0] == 0:\n",
    "                print('ZERO!')\n",
    "                print(rb, phib, zb)\n",
    "                print()\n",
    "            \n",
    "            comptimes.append(middle-start)\n",
    "            addtimes.append(end-middle)\n",
    "        \n",
    "        if debug:\n",
    "            print(f'Phi: {phib*180/np.pi}, mirror phis: {phis*180/np.pi}')\n",
    "            print(f'Avg comp time: {np.mean(comptimes):.2f} s per phi')\n",
    "            print()\n",
    "            \n",
    "        return phis, Fg\n",
    "    \n",
    "    \n",
    "    def sector_yukawa(self, rb_vec, l=100e-6):\n",
    "        \n",
    "        # given bead position rb_vec, compute yukawa force\n",
    "        \n",
    "        G = 6.67e-11\n",
    "        Fg = np.array([0.,0.,0.])\n",
    "        \n",
    "        rb, pb, zb = rb_vec\n",
    "        rb = rb*1e-6\n",
    "        zb = zb*1e-6\n",
    "        \n",
    "        func = np.exp(-2. * self.Rb/l) * (1. + self.Rb/l) + self.Rb/l - 1.\n",
    "        \n",
    "        for i,r in enumerate(self.rr):      \n",
    "            \n",
    "            dm_arr = self.mass_arr[i,:,:self.sizes[i]].T # transpose here for shape, fix in build attractor?\n",
    "            pp = self.phis_arr[i,:self.sizes[i]]\n",
    "            \n",
    "            # create coordinate arrays to compute force vector at\n",
    "            psep, zsep = np.meshgrid(pp - pb, self.zz - zb, indexing='ij')\n",
    "            rsep = rb - r\n",
    "                       \n",
    "            # separation between attractor mesh and SURFACE of bead\n",
    "            sep = np.sqrt((rb**2) + (r**2) - 2*rb*r*np.cos(psep) + zsep**2) - self.Rb\n",
    "            \n",
    "            # separation in only r,phi; to center for projections\n",
    "            sep_rp = np.sqrt((rb**2) + (r**2) - 2*rb*r*np.cos(psep))\n",
    "            \n",
    "            # yukawa term\n",
    "            prefac = -((2.*G*dm_arr*self.rhob*np.pi) / (3.*(sep+self.Rb)**2))\n",
    "            yukterm = 3.*l**2 * (sep+self.Rb+l) * func * np.exp(-sep/l)\n",
    "            \n",
    "            # get full vector force at every point in meshgrid (i.e. every r,phi,z in partition)\n",
    "            full_vec_force = prefac * yukterm\n",
    "            \n",
    "            # add 1% white noise\n",
    "            # full_vec_force += np.random.randn()*full_vec_force/100\n",
    "            \n",
    "            # get projections onto each unit vector and sum the force at all points on the partition\n",
    "            Fg[0] += np.sum(full_vec_force * (rb-r*np.cos(psep))/sep_rp)\n",
    "            Fg[1] += np.sum(full_vec_force * (r*np.sin(psep))/sep_rp)\n",
    "            Fg[2] += np.sum(full_vec_force * (zsep/(sep+self.Rb)))               \n",
    "        \n",
    "        return Fg      \n",
    "    \n",
    "    def yukawa(self, rb_vec, l=100e-6):\n",
    "        # compute yukawa for a single value of lambda\n",
    "        \n",
    "        rb, phib, zb = rb_vec\n",
    "        \n",
    "        # effective bead positions for missing slices\n",
    "        phis = np.arange(phib, 2*np.pi + phib, self.dphi_sector)  \n",
    "        \n",
    "        phis[phis>2*np.pi] -= 2*np.pi\n",
    "        phis[phis<0] += 2*np.pi\n",
    "        \n",
    "        Fg = np.zeros((3, phis.size))\n",
    "        \n",
    "        comptimes = []\n",
    "        addtimes = []\n",
    "        for i,phi in enumerate(phis):\n",
    "            rb_vec = (rb, phi, zb)\n",
    "            start = time.time()\n",
    "            Fgi = self.sector_yukawa(rb_vec, l=l)\n",
    "            middle = time.time()\n",
    "            Fg[:,i] = Fgi\n",
    "            end = time.time()\n",
    "            \n",
    "            comptimes.append(middle-start)\n",
    "            addtimes.append(end-middle)\n",
    "        \n",
    "        return phis, Fg\n",
    "    \n",
    "    \n",
    "    def full_gravity(self, sep, height, lambdas=None, nphi=5, debug=False):\n",
    "        \n",
    "        Nsectors = int(2*np.pi/self.dphi_sector)\n",
    "        nphi = int(nphi)\n",
    "        dphi = np.pi/(Nsectors*nphi)\n",
    "        sector_phis = np.linspace(-(self.dphi_sector/2)+dphi, (self.dphi_sector/2)-dphi, nphi)\n",
    "        \n",
    "        full_phis = np.arange(0, 2*np.pi, 2*dphi)\n",
    "        full_newt = np.zeros((Nsectors*nphi, 3))\n",
    "        full_yuka = np.zeros((Nsectors*nphi, lambdas.size, 3))\n",
    "\n",
    "        if debug:\n",
    "            print('Sector phis: ', sector_phis)\n",
    "            print('Full phis: ', full_phis)\n",
    "            print(f'shapes: full_phis {full_phis.shape}, full_newt {full_newt.shape}')\n",
    "            print()\n",
    "        \n",
    "        for phi in sector_phis:\n",
    "            phis, newt_i = self.newtonian((self.R+sep, phi, height), debug=debug)\n",
    "            yukas = []\n",
    "            if lambdas is not None:\n",
    "                for lam in lambdas:\n",
    "                    _, yuka_i = self.yukawa((self.R+sep, phi, height))\n",
    "                    yukas.append(np.sum(yuka_i, axis=1))\n",
    "            for p in phis:\n",
    "                if p != 0.:\n",
    "                    i = int(p/(2*dphi))\n",
    "                else:\n",
    "                    i = 0\n",
    "                full_newt[i, :] = np.sum(newt_i, axis=1)\n",
    "                full_yuka[i, :, :] = yukas\n",
    "        \n",
    "        return full_phis, full_newt, full_yuka\n",
    "    \n",
    "    \n",
    "    def plot_xy(self, downsample=50, upsample=2, show_data=False, save=False):\n",
    "        \n",
    "        # convert angular data to cartesian and display\n",
    "        # converting back to um for convienience\n",
    "        \n",
    "        rr = np.array([0.])\n",
    "        pp = np.array([0.])\n",
    "        mm = np.array([self.data[0.]['data'][0]])\n",
    "        \n",
    "        xxi = np.array([0.])\n",
    "        yyi = np.array([0.])\n",
    "        \n",
    "        # create full coordinate list of r, phi, rho\n",
    "        for r in self.data.keys():\n",
    "            \n",
    "            partition = self.data[r]\n",
    "            data_arr = partition['data']\n",
    "            pp_i = partition['params'][3][::downsample]\n",
    "            if pp_i.size != 1:\n",
    "                dms = data_arr[0,::downsample]\n",
    "\n",
    "                rr = np.concatenate((rr, np.full(dms.size, r*1e6)))\n",
    "                pp = np.concatenate((pp, pp_i))\n",
    "                mm = np.concatenate((mm, dms))\n",
    "\n",
    "                xxi = np.concatenate((xxi, r*1e6*np.cos(pp_i)))\n",
    "                yyi = np.concatenate((yyi, r*1e6*np.sin(pp_i)))\n",
    "            \n",
    "                    \n",
    "        coord_data = (rr, pp, mm)\n",
    "                        \n",
    "        dx = self.dr_dyn / upsample\n",
    "        xx = np.arange(-self.rr[-1]*1e6, self.rr[-1]*1e6+dx, dx)\n",
    "        yy = xx\n",
    "        rho_cart = np.zeros((xx.size, yy.size))\n",
    "        \n",
    "        for i in tqdm_notebook(np.arange(xx.size), desc='Building Image'):\n",
    "            \n",
    "            x = xx[i]\n",
    "            for j,y in enumerate(yy):\n",
    "                r = np.sqrt(x**2 + y**2)\n",
    "                phi = np.arctan2(y, x)\n",
    "                if phi < 0:\n",
    "                    phi += 2*np.pi\n",
    "\n",
    "                rho_cart[j,i] =  self.density_profile(r*1e-6,phi,0.) #check index order\n",
    "                \n",
    "        fig, ax = plt.subplots(1, figsize=(12,12))   \n",
    "        ax.contourf(xx,yy,rho_cart)\n",
    "        ax.invert_yaxis()\n",
    "        ax.set_aspect('equal', 'box')\n",
    "        \n",
    "        if show_data:\n",
    "            for i in tqdm_notebook(np.arange(xxi.size), desc='Populating Image'):\n",
    "                mi = mm[i]\n",
    "                if mi != 0.:\n",
    "                    c='r'\n",
    "                else:\n",
    "                    c='b'\n",
    "                ax.scatter(xxi[i], yyi[i], c=c)\n",
    "        \n",
    "        if save:\n",
    "            plt.savefig('attractor_profile.png', dpi=150)\n",
    "        else:\n",
    "            plt.show()\n",
    "    \n",
    "    \n",
    "    def force_curve(self, sep, w, z=0., tint=10, fsamp=10e3, time_readout=False):\n",
    "        \n",
    "        # should implement some sampling condition with dphi here\n",
    "        dphi = 2*np.pi*w/fsamp\n",
    "        phis = np.arange(0, 2*np.pi+dphi, dphi)\n",
    "        \n",
    "        Fg_newtonian = [[],[],[]]\n",
    "        Fg_yukawa = [[],[],[]]\n",
    "        \n",
    "        start = time.time()\n",
    "        \n",
    "        for phi in tqdm_notebook(phis, desc='Building Full Force Curve'):\n",
    "            Fg_n = self.newtonian((self.R+sep, phi, z))\n",
    "            Fg_y = self.yukawa((self.R+sep, phi, z))\n",
    "            \n",
    "            for i in range(3):\n",
    "                Fg_newtonian[i].append(Fg_n[i])\n",
    "                Fg_yukawa[i].append(Fg_y[i])\n",
    "                \n",
    "        end = time.time()\n",
    "        \n",
    "        comptime = end-start\n",
    "        N = phis.size*len(self.data.keys())\n",
    "        \n",
    "        if time_readout:\n",
    "            print('{} computations took {:.3f}s'.format(N, comptime))\n",
    "                \n",
    "        Fg_newtonian = np.array(Fg_newtonian)\n",
    "        Fg_yukawa = np.array(Fg_yukawa)\n",
    "        \n",
    "        if tint > 1:\n",
    "            for i in range(tint-1):\n",
    "                Fg_newtonian = np.hstack((Fg_newtonian, Fg_newtonian[:,1:]))\n",
    "                Fg_yukawa = np.hstack((Fg_yukawa, Fg_yukawa[:,1:]))\n",
    "        \n",
    "        return Fg_newtonian, Fg_yukawa, (N, comptime)"
   ]
  },
  {
   "cell_type": "code",
   "execution_count": 10,
   "metadata": {},
   "outputs": [],
   "source": [
    "from symmetric_attractor_profile import attractor_profile as symap"
   ]
  },
  {
   "cell_type": "code",
   "execution_count": 11,
   "metadata": {},
   "outputs": [],
   "source": [
    "# define bead properties\n",
    "Rb = 7.6/2\n",
    "rhob = 1850.\n",
    "\n",
    "# define attractor properties\n",
    "R = 1000\n",
    "height = 100\n",
    "rho_attractor = 19300. # gold\n",
    "# nickel 8900.\n",
    "\n",
    "N = 7\n",
    "dist_from_edge = 2.5\n",
    "hr = 12.5\n",
    "\n",
    "def nholes(r,phi,z,R=R,hr=25,from_edge=2.5):\n",
    "    R *= 1e-6\n",
    "    hr *= 1e-6\n",
    "    from_edge *= 1e-6\n",
    "    \n",
    "    # outside attractor or inside bulk\n",
    "    if r > R or r < (500e-6):\n",
    "        return 0.\n",
    "    \n",
    "    x = r*np.cos(phi)\n",
    "    y = r*np.sin(phi)\n",
    "\n",
    "    if (x-(R-from_edge))**2 + y**2 <= hr**2: # inside the hole\n",
    "        return 0.\n",
    "    \n",
    "    return rho_attractor\n",
    "\n",
    "def uniform(r,phi,z,R=R):\n",
    "    R *= 1e-6\n",
    "    if r < 500e-6: # bulk cutoff\n",
    "        return 0.\n",
    "    if r < R:\n",
    "        return rho_attractor\n",
    "    else:\n",
    "        return 0.\n",
    "    \n",
    "def one_hole(r, phi, z, R=R):\n",
    "    R *= 1e-6\n",
    "    if r < 500e-6: # bulk cutoff\n",
    "        return 0.\n",
    "    x = r*np.cos(phi)\n",
    "    y = r*np.sin(phi)\n",
    "    \n",
    "    if (x-(R-100e-6))**2+y**2 <= (75e-6)**2:\n",
    "        return 0.\n",
    "    if r < R:\n",
    "        return rho_attractor\n",
    "    else:\n",
    "        return 0."
   ]
  },
  {
   "cell_type": "code",
   "execution_count": 12,
   "metadata": {},
   "outputs": [
    {
     "name": "stderr",
     "output_type": "stream",
     "text": [
      "Building Attractor: 100%|██████████| 1001/1001 [00:02<00:00, 426.80it/s]\n"
     ]
    }
   ],
   "source": [
    "test = symap(R, height)\n",
    "test.build(lambda pos: nholes(pos[0], pos[1], pos[2], R=R, hr=hr, from_edge=dist_from_edge), N=N, cyl_sym=True)"
   ]
  },
  {
   "cell_type": "code",
   "execution_count": 7,
   "metadata": {},
   "outputs": [
    {
     "data": {
      "text/plain": [
       "6.488295979393476e-07"
      ]
     },
     "execution_count": 7,
     "metadata": {},
     "output_type": "execute_result"
    }
   ],
   "source": [
    "test.sum_dm"
   ]
  },
  {
   "cell_type": "code",
   "execution_count": 6,
   "metadata": {},
   "outputs": [
    {
     "data": {
      "text/plain": [
       "array([[0., 0., 0., ..., 0., 0., 0.],\n",
       "       [0., 0., 0., ..., 0., 0., 0.],\n",
       "       [0., 0., 0., ..., 0., 0., 0.],\n",
       "       ...,\n",
       "       [0., 0., 0., ..., 0., 0., 0.],\n",
       "       [0., 0., 0., ..., 0., 0., 0.],\n",
       "       [0., 0., 0., ..., 0., 0., 0.]])"
      ]
     },
     "execution_count": 6,
     "metadata": {},
     "output_type": "execute_result"
    }
   ],
   "source": [
    "test.data[0.00099950025000000004]['data']"
   ]
  },
  {
   "cell_type": "code",
   "execution_count": 6,
   "metadata": {},
   "outputs": [],
   "source": [
    "phis, fn, fy = test.full_gravity(20, 5, lambdas=np.array([1e-6]))"
   ]
  },
  {
   "cell_type": "code",
   "execution_count": 9,
   "metadata": {},
   "outputs": [
    {
     "data": {
      "text/plain": [
       "[<matplotlib.lines.Line2D at 0x7f88eb179a58>]"
      ]
     },
     "execution_count": 9,
     "metadata": {},
     "output_type": "execute_result"
    },
    {
     "data": {
      "image/png": "[encoded data removed]",
      "text/plain": [
       "<Figure size 432x288 with 1 Axes>"
      ]
     },
     "metadata": {
      "needs_background": "light"
     },
     "output_type": "display_data"
    }
   ],
   "source": [
    "%matplotlib inline\n",
    "plt.plot(phis, fn[:,2])"
   ]
  },
  {
   "cell_type": "code",
   "execution_count": 13,
   "metadata": {},
   "outputs": [
    {
     "data": {
      "text/plain": [
       "array([ 1.64257683e-25,  1.04325576e-24,  0.00000000e+00, -1.04325576e-24,\n",
       "       -1.64257683e-25])"
      ]
     },
     "execution_count": 13,
     "metadata": {},
     "output_type": "execute_result"
    }
   ],
   "source": [
    "on[:,1]"
   ]
  },
  {
   "cell_type": "code",
   "execution_count": 9,
   "metadata": {},
   "outputs": [
    {
     "data": {
      "text/plain": [
       "array([-3.48403780e-22, -3.48296046e-22, -3.20174005e-22, -3.48296046e-22,\n",
       "       -3.48403780e-22])"
      ]
     },
     "execution_count": 9,
     "metadata": {},
     "output_type": "execute_result"
    }
   ],
   "source": [
    "oy[:,0,0]"
   ]
  },
  {
   "cell_type": "code",
   "execution_count": 23,
   "metadata": {},
   "outputs": [
    {
     "name": "stderr",
     "output_type": "stream",
     "text": [
      "Building Attractor: 100%|██████████| 1001/1001 [00:02<00:00, 401.93it/s]\n"
     ]
    }
   ],
   "source": [
    "zeros = sym_attractor_profile(R, height)\n",
    "zeros.build(lambda pos: nholes(pos[0], pos[1], pos[2], R=R, hr=hr, from_edge=dist_from_edge), N=N)"
   ]
  },
  {
   "cell_type": "code",
   "execution_count": 24,
   "metadata": {},
   "outputs": [],
   "source": [
    "phis, newt, yuka = zeros.full_gravity(20., 5., lambdas=np.array([10e-6]), nphi=100)"
   ]
  },
  {
   "cell_type": "code",
   "execution_count": 17,
   "metadata": {},
   "outputs": [
    {
     "data": {
      "text/plain": [
       "array([-7.68682529e-22, -5.96978622e-24,  2.49404041e-23])"
      ]
     },
     "execution_count": 17,
     "metadata": {},
     "output_type": "execute_result"
    }
   ],
   "source": [
    "np.sum(newt, axis=1)"
   ]
  },
  {
   "cell_type": "code",
   "execution_count": 313,
   "metadata": {},
   "outputs": [
    {
     "name": "stdout",
     "output_type": "stream",
     "text": [
      "2.28 per phi\n"
     ]
    }
   ],
   "source": [
    "lams = np.array([10e-6, 50e-6])\n",
    "start = time.time()\n",
    "phis, newtf, yukaf = sym_test.full_gravity(20, 5, lambdas=lams, nphi=5)\n",
    "print(f'{(time.time()-start)/(5*10*3):.2f} per phi')"
   ]
  },
  {
   "cell_type": "code",
   "execution_count": 319,
   "metadata": {},
   "outputs": [],
   "source": [
    "newt_interp = intp.interp1d(phis, newtf.T, kind='cubic', axis=1)\n",
    "yuka_interp = intp.interp1d(phis, np.swapaxes(yukaf[:,1,:], 0, 1), kind='cubic', axis=1)"
   ]
  },
  {
   "cell_type": "code",
   "execution_count": 257,
   "metadata": {},
   "outputs": [
    {
     "name": "stderr",
     "output_type": "stream",
     "text": [
      "Building Attractor: 100%|██████████| 1022/1022 [00:06<00:00, 157.63it/s]\n"
     ]
    }
   ],
   "source": [
    "normal = attractor_profile(R, height, Rb=Rb, rhob=rhob)\n",
    "normal.build(lambda pos: uniform(pos[0], pos[1], pos[2]), cyl_sym=True)"
   ]
  },
  {
   "cell_type": "code",
   "execution_count": 258,
   "metadata": {},
   "outputs": [
    {
     "data": {
      "text/plain": [
       "array([-2.12931253e-22,  1.68688148e-39, -1.49956452e-42])"
      ]
     },
     "execution_count": 258,
     "metadata": {},
     "output_type": "execute_result"
    }
   ],
   "source": [
    "normal.newtonian((1100., 0., 0.))"
   ]
  },
  {
   "cell_type": "code",
   "execution_count": 285,
   "metadata": {},
   "outputs": [],
   "source": [
    "radial = []\n",
    "angular = []\n",
    "phis = np.arange(0, 2*np.pi, np.pi/4)\n",
    "\n",
    "for phi in phis:\n",
    "    newt, phis = sym_test.newtonian((1100., phi, 0.))\n",
    "    Fg = np.sum(newt, axis=1)\n",
    "    radial.append(Fg[0])\n",
    "    angular.append(Fg[1])"
   ]
  },
  {
   "cell_type": "code",
   "execution_count": 286,
   "metadata": {},
   "outputs": [
    {
     "data": {
      "text/plain": [
       "[<matplotlib.lines.Line2D at 0x7f9f67c94d30>]"
      ]
     },
     "execution_count": 286,
     "metadata": {},
     "output_type": "execute_result"
    },
    {
     "data": {
      "image/png": "[encoded data removed]",
      "text/plain": [
       "<Figure size 864x576 with 1 Axes>"
      ]
     },
     "metadata": {
      "needs_background": "light"
     },
     "output_type": "display_data"
    }
   ],
   "source": [
    "plt.plot(radial, 'o')\n",
    "plt.plot(angular, 'o')"
   ]
  },
  {
   "cell_type": "code",
   "execution_count": 281,
   "metadata": {},
   "outputs": [
    {
     "data": {
      "text/plain": [
       "(0.0, 0.0)"
      ]
     },
     "execution_count": 281,
     "metadata": {},
     "output_type": "execute_result"
    }
   ],
   "source": [
    "np.std(radial), np.std(angular)"
   ]
  },
  {
   "cell_type": "code",
   "execution_count": 288,
   "metadata": {},
   "outputs": [
    {
     "name": "stdout",
     "output_type": "stream",
     "text": [
      "Full newtonian took 13.42 min for 500 phi\n",
      "Avg of 1.61 s per phi\n"
     ]
    }
   ],
   "source": [
    "nphi = 50\n",
    "start = time.time()\n",
    "Fg = sym_test.full_newtonian(25, 10, nphi=nphi, debug=False)\n",
    "end = time.time()\n",
    "print(f'Full newtonian took {(end-start)/60:.2f} min for {nphi*N} phi')\n",
    "print(f'Avg of {(end-start)/(nphi*N):.2f} s per phi')"
   ]
  },
  {
   "cell_type": "code",
   "execution_count": 291,
   "metadata": {},
   "outputs": [
    {
     "data": {
      "text/plain": [
       "((500,), (3, 500))"
      ]
     },
     "execution_count": 291,
     "metadata": {},
     "output_type": "execute_result"
    }
   ],
   "source": [
    "phis, newt = Fg\n",
    "phis.shape, newt.shape"
   ]
  },
  {
   "cell_type": "code",
   "execution_count": 295,
   "metadata": {},
   "outputs": [],
   "source": [
    "newt_interp = intp.interp1d(phis, newt, kind='cubic', axis=1)\n",
    "phis_range = np.linspace(0,np.max(phis), 1000)\n",
    "newt_f = newt_interp(phis_range)"
   ]
  },
  {
   "cell_type": "code",
   "execution_count": 306,
   "metadata": {},
   "outputs": [
    {
     "data": {
      "text/plain": [
       "<matplotlib.lines.Line2D at 0x7f9f07820048>"
      ]
     },
     "execution_count": 306,
     "metadata": {},
     "output_type": "execute_result"
    },
    {
     "data": {
      "image/png": "[encoded data removed]",
      "text/plain": [
       "<Figure size 864x576 with 1 Axes>"
      ]
     },
     "metadata": {
      "needs_background": "light"
     },
     "output_type": "display_data"
    }
   ],
   "source": [
    "plt.plot(phis, newt[0,:], 'o')\n",
    "plt.plot(phis_range, newt_f[0])\n",
    "plt.xlim(0,1)\n",
    "plt.axvline(np.pi/5)"
   ]
  },
  {
   "cell_type": "code",
   "execution_count": 302,
   "metadata": {},
   "outputs": [
    {
     "data": {
      "text/plain": [
       "<matplotlib.lines.Line2D at 0x7f9f76d1af28>"
      ]
     },
     "execution_count": 302,
     "metadata": {},
     "output_type": "execute_result"
    },
    {
     "data": {
      "image/png": "[encoded data removed]",
      "text/plain": [
       "<Figure size 864x576 with 1 Axes>"
      ]
     },
     "metadata": {
      "needs_background": "light"
     },
     "output_type": "display_data"
    }
   ],
   "source": [
    "plt.plot(phis, newt[1,:], 'o')\n",
    "plt.plot(phis_range, newt_f[1])\n",
    "plt.xlim(0,1)\n",
    "plt.axvline(np.pi/5)"
   ]
  },
  {
   "cell_type": "code",
   "execution_count": 307,
   "metadata": {},
   "outputs": [
    {
     "data": {
      "text/plain": [
       "<matplotlib.lines.Line2D at 0x7f9f07599128>"
      ]
     },
     "execution_count": 307,
     "metadata": {},
     "output_type": "execute_result"
    },
    {
     "data": {
      "image/png": "[encoded data removed]",
      "text/plain": [
       "<Figure size 864x576 with 1 Axes>"
      ]
     },
     "metadata": {
      "needs_background": "light"
     },
     "output_type": "display_data"
    }
   ],
   "source": [
    "plt.plot(phis, newt[2,:], 'o')\n",
    "plt.plot(phis_range, newt_f[2])\n",
    "plt.xlim(0,1)\n",
    "plt.axvline(np.pi/5)"
   ]
  },
  {
   "cell_type": "code",
   "execution_count": null,
   "metadata": {},
   "outputs": [],
   "source": []
  },
  {
   "cell_type": "markdown",
   "metadata": {},
   "source": [
    "## What even is this"
   ]
  },
  {
   "cell_type": "code",
   "execution_count": 31,
   "metadata": {},
   "outputs": [],
   "source": [
    "# parent = os.getcwd()\n",
    "# os.chdir('./sim_data/times_test/')\n",
    "\n",
    "# with open('attractor_profile.p', 'rb') as file:\n",
    "#     big_test = pickle.load(file)\n",
    "    \n",
    "# os.chdir(parent)"
   ]
  },
  {
   "cell_type": "code",
   "execution_count": 32,
   "metadata": {},
   "outputs": [
    {
     "data": {
      "text/plain": [
       "(636.6145663740374, -7.825156624467217e-14)"
      ]
     },
     "execution_count": 32,
     "metadata": {},
     "output_type": "execute_result"
    }
   ],
   "source": [
    "sym_test.sector_com()"
   ]
  },
  {
   "cell_type": "code",
   "execution_count": 21,
   "metadata": {},
   "outputs": [
    {
     "name": "stdout",
     "output_type": "stream",
     "text": [
      "Avg comp time: 3.43 s\n",
      "Avg add time: 0.01 ms\n"
     ]
    }
   ],
   "source": [
    "testn = sym_test.newtonian((R+100, 0., 0.))"
   ]
  },
  {
   "cell_type": "code",
   "execution_count": 32,
   "metadata": {},
   "outputs": [
    {
     "data": {
      "text/plain": [
       "-1.4212116958598475e-22"
      ]
     },
     "execution_count": 32,
     "metadata": {},
     "output_type": "execute_result"
    }
   ],
   "source": [
    "-6.67e-11*(np.pi*1000e-6**2*100e-6)*rho_attractor*(4/3)*np.pi*(Rb*1e-6)**3*rhob / (1100e-6)**2"
   ]
  },
  {
   "cell_type": "code",
   "execution_count": 33,
   "metadata": {},
   "outputs": [
    {
     "data": {
      "text/plain": [
       "-2.516386777479415e-22"
      ]
     },
     "execution_count": 33,
     "metadata": {},
     "output_type": "execute_result"
    }
   ],
   "source": [
    "np.sum(testn[0][0,:])"
   ]
  },
  {
   "cell_type": "code",
   "execution_count": 31,
   "metadata": {},
   "outputs": [
    {
     "data": {
      "text/plain": [
       "6.063279876370002e-06"
      ]
     },
     "execution_count": 31,
     "metadata": {},
     "output_type": "execute_result"
    }
   ],
   "source": [
    "6*sym_test.sum_dm"
   ]
  },
  {
   "cell_type": "code",
   "execution_count": 30,
   "metadata": {},
   "outputs": [
    {
     "data": {
      "text/plain": [
       "6.0632738214283e-06"
      ]
     },
     "execution_count": 30,
     "metadata": {},
     "output_type": "execute_result"
    }
   ],
   "source": [
    "(np.pi*1000e-6**2*100e-6)*rho_attractor"
   ]
  },
  {
   "cell_type": "code",
   "execution_count": 15,
   "metadata": {},
   "outputs": [
    {
     "data": {
      "text/plain": [
       "636.6197723675813"
      ]
     },
     "execution_count": 15,
     "metadata": {},
     "output_type": "execute_result"
    }
   ],
   "source": [
    "xcm = 2/3 * R * np.sin(np.pi/N)/(np.pi/N)\n",
    "xcm"
   ]
  },
  {
   "cell_type": "code",
   "execution_count": 37,
   "metadata": {},
   "outputs": [
    {
     "data": {
      "image/png": "[encoded data removed]",
      "text/plain": [
       "<Figure size 864x576 with 1 Axes>"
      ]
     },
     "metadata": {
      "needs_background": "light"
     },
     "output_type": "display_data"
    }
   ],
   "source": [
    "PP = np.array([])\n",
    "for r, partition in sym_test.data.items():\n",
    "    pp = partition['params'][3]\n",
    "    pp[pp>np.pi]-=2*np.pi\n",
    "    PP = np.concatenate((PP, pp))\n",
    "\n",
    "plt.hist(PP, density=True, bins=1000)\n",
    "plt.show()"
   ]
  },
  {
   "cell_type": "code",
   "execution_count": 5,
   "metadata": {},
   "outputs": [],
   "source": [
    "sep = 100"
   ]
  },
  {
   "cell_type": "code",
   "execution_count": 16,
   "metadata": {},
   "outputs": [
    {
     "name": "stdout",
     "output_type": "stream",
     "text": [
      "6.0632738214283e-06 ,  1.0105456369047168e-06 ==? 1.010546646061667e-06\n",
      "\n",
      "-1.334805217799296e-22\n"
     ]
    }
   ],
   "source": [
    "M = np.pi*(R*1e-6)**2 * (100*1e-6) * rho_attractor\n",
    "print(M, ', ', M/N, '==?', sym_test.sum_dm)\n",
    "print()\n",
    "Fg_exp = -6.67e-11*(M/N)*4*np.pi*(Rb*1e-6)**3*1850. / (3*((R+sep-xcm)*1e-6)**2)\n",
    "print(Fg_exp)"
   ]
  },
  {
   "cell_type": "code",
   "execution_count": 39,
   "metadata": {},
   "outputs": [],
   "source": [
    "Fg_analytical = lambda sep: (-6.67e-11*(M/N)*4*np.pi*(Rb*1e-6)**3*1850. / (3*((R+sep-xcm)*1e-6)**2))"
   ]
  },
  {
   "cell_type": "code",
   "execution_count": 12,
   "metadata": {},
   "outputs": [
    {
     "name": "stdout",
     "output_type": "stream",
     "text": [
      "(1, 100)\n",
      "(100,)\n"
     ]
    },
    {
     "data": {
      "text/plain": [
       "array([-1.65407792e-22,  1.18208771e-38, -1.11252971e-42])"
      ]
     },
     "execution_count": 12,
     "metadata": {},
     "output_type": "execute_result"
    }
   ],
   "source": [
    "newt_slice = sym_test.sector_newtonian((R+sep, 0., 0.), include_zero=True)\n",
    "newt_slice"
   ]
  },
  {
   "cell_type": "code",
   "execution_count": 40,
   "metadata": {},
   "outputs": [],
   "source": [
    "seps = np.linspace(10, 150, 25)\n",
    "ratio = []\n",
    "\n",
    "for sep in seps:\n",
    "    ratio.append(sym_test.sector_newtonian((R+sep, 0., 0.), include_zero=True)[0]/Fg_analytical(sep))"
   ]
  },
  {
   "cell_type": "code",
   "execution_count": 46,
   "metadata": {},
   "outputs": [
    {
     "data": {
      "text/plain": [
       "[<matplotlib.lines.Line2D at 0x7fab63ddcc88>]"
      ]
     },
     "execution_count": 46,
     "metadata": {},
     "output_type": "execute_result"
    },
    {
     "data": {
      "image/png": "[encoded data removed]",
      "text/plain": [
       "<Figure size 864x576 with 1 Axes>"
      ]
     },
     "metadata": {
      "needs_background": "light"
     },
     "output_type": "display_data"
    }
   ],
   "source": [
    "plt.plot(seps, ratio)"
   ]
  },
  {
   "cell_type": "code",
   "execution_count": 17,
   "metadata": {},
   "outputs": [
    {
     "data": {
      "text/plain": [
       "1.2391904806412049"
      ]
     },
     "execution_count": 17,
     "metadata": {},
     "output_type": "execute_result"
    }
   ],
   "source": [
    "newt_slice[0]/Fg_exp"
   ]
  },
  {
   "cell_type": "code",
   "execution_count": 225,
   "metadata": {},
   "outputs": [
    {
     "data": {
      "image/png": "[encoded data removed]",
      "text/plain": [
       "<Figure size 864x576 with 1 Axes>"
      ]
     },
     "metadata": {
      "needs_background": "light"
     },
     "output_type": "display_data"
    }
   ],
   "source": [
    "plt.plot(phis*180/np.pi, newt[0,:], 'o', label='r')\n",
    "plt.plot(phis*180/np.pi, newt[1,:], 'o', label='phi')\n",
    "plt.axhline(0,0,2*np.pi, ls='--', alpha=0.7)\n",
    "plt.legend()\n",
    "plt.show()"
   ]
  },
  {
   "cell_type": "code",
   "execution_count": 53,
   "metadata": {},
   "outputs": [
    {
     "data": {
      "text/plain": [
       "3.2304735457476042e-15"
      ]
     },
     "execution_count": 53,
     "metadata": {},
     "output_type": "execute_result"
    }
   ],
   "source": [
    "mb = (4/3)*np.pi*(5e-6)**3*1850.\n",
    "6.67e-11*mb/(np.sqrt(2)*100e-6)**2"
   ]
  },
  {
   "cell_type": "code",
   "execution_count": 55,
   "metadata": {},
   "outputs": [
    {
     "data": {
      "text/plain": [
       "2.284290071846831e-15"
      ]
     },
     "execution_count": 55,
     "metadata": {},
     "output_type": "execute_result"
    }
   ],
   "source": [
    "3.230474e-15*np.cos(np.pi/4)"
   ]
  },
  {
   "cell_type": "code",
   "execution_count": 56,
   "metadata": {},
   "outputs": [
    {
     "name": "stdout",
     "output_type": "stream",
     "text": [
      "[-2.28428975e-15 -2.28428975e-15  0.00000000e+00]\n"
     ]
    }
   ],
   "source": [
    "rb_vec = (100., 0., 0.)\n",
    "\n",
    "G = 6.67e-11\n",
    "Fg = np.array([0.,0.,0.])\n",
    "rb, pb, zb = rb_vec\n",
    "rb = rb*1e-6\n",
    "zb = zb*1e-6\n",
    "\n",
    "rhob = 1850.\n",
    "Rb = 5e-6\n",
    "\n",
    "r = 100e-6\n",
    "pp = np.array([np.pi/2])\n",
    "dm_arr = np.array([1.0])\n",
    "zz = np.array([0.])\n",
    "\n",
    "# create coordinate arrays to compute force vector at\n",
    "psep, zsep = np.meshgrid(pp - pb, zz - zb, indexing='ij')\n",
    "rsep = rb - r\n",
    "\n",
    "# separation between attractor mesh and bead\n",
    "sep = np.sqrt((rb**2) + (r**2) - 2*rb*r*np.cos(psep) + zsep**2)\n",
    "\n",
    "# separation in only r,phi\n",
    "sep_rp = np.sqrt((rb**2) + (r**2) - 2*rb*r*np.cos(psep))\n",
    "\n",
    "# get full vector force at every point in meshgrid (i.e. every r,phi,z in partition)\n",
    "full_vec_force = -1.0 * (4.*G*dm_arr*rhob*np.pi*Rb**3)/(3.*sep**2)\n",
    "\n",
    "# add 1% white noise\n",
    "# full_vec_force += np.random.randn()*full_vec_force/100\n",
    "\n",
    "# get projections onto each unit vector and sum the force at all points on the partition\n",
    "Fg[0] += np.sum(full_vec_force * (rb-r*np.cos(psep))/sep_rp)\n",
    "Fg[1] += np.sum(full_vec_force * (r*np.sin(psep))/sep_rp)\n",
    "Fg[2] += np.sum(full_vec_force * (zsep/sep))   \n",
    "\n",
    "print(Fg)"
   ]
  },
  {
   "cell_type": "code",
   "execution_count": 57,
   "metadata": {},
   "outputs": [
    {
     "name": "stdout",
     "output_type": "stream",
     "text": [
      "[-2.28428975e-15  2.28428975e-15  0.00000000e+00]\n"
     ]
    }
   ],
   "source": [
    "rb_vec = (100., 0., 0.)\n",
    "\n",
    "G = 6.67e-11\n",
    "Fg = np.array([0.,0.,0.])\n",
    "rb, pb, zb = rb_vec\n",
    "rb = rb*1e-6\n",
    "zb = zb*1e-6\n",
    "\n",
    "rhob = 1850.\n",
    "Rb = 5e-6\n",
    "\n",
    "r = 100e-6\n",
    "pp = np.array([3*np.pi/2])\n",
    "dm_arr = np.array([1.0])\n",
    "zz = np.array([0.])\n",
    "\n",
    "# create coordinate arrays to compute force vector at\n",
    "psep, zsep = np.meshgrid(pp - pb, zz - zb, indexing='ij')\n",
    "rsep = rb - r\n",
    "\n",
    "# separation between attractor mesh and bead\n",
    "sep = np.sqrt((rb**2) + (r**2) - 2*rb*r*np.cos(psep) + zsep**2)\n",
    "\n",
    "# separation in only r,phi\n",
    "sep_rp = np.sqrt((rb**2) + (r**2) - 2*rb*r*np.cos(psep))\n",
    "\n",
    "# get full vector force at every point in meshgrid (i.e. every r,phi,z in partition)\n",
    "full_vec_force = -1.0 * (4.*G*dm_arr*rhob*np.pi*Rb**3)/(3.*sep**2)\n",
    "\n",
    "# add 1% white noise\n",
    "# full_vec_force += np.random.randn()*full_vec_force/100\n",
    "\n",
    "# get projections onto each unit vector and sum the force at all points on the partition\n",
    "Fg[0] += np.sum(full_vec_force * (rb-r*np.cos(psep))/sep_rp)\n",
    "Fg[1] += np.sum(full_vec_force * (r*np.sin(psep))/sep_rp)\n",
    "Fg[2] += np.sum(full_vec_force * (zsep/sep))   \n",
    "\n",
    "print(Fg)"
   ]
  },
  {
   "cell_type": "code",
   "execution_count": 79,
   "metadata": {},
   "outputs": [
    {
     "name": "stdout",
     "output_type": "stream",
     "text": [
      "[-2.28428975e-15  0.00000000e+00  0.00000000e+00]\n"
     ]
    }
   ],
   "source": [
    "rb_vec = (100., 0., 0.)\n",
    "\n",
    "G = 6.67e-11\n",
    "Fg = np.array([0.,0.,0.])\n",
    "rb, pb, zb = rb_vec\n",
    "rb = rb*1e-6\n",
    "zb = zb*1e-6\n",
    "\n",
    "rhob = 1850.\n",
    "Rb = 5e-6\n",
    "\n",
    "r = 100e-6\n",
    "pp = np.array([np.pi/2, 3*np.pi/2])\n",
    "dm_arr = np.array([[0.5], [0.5]])\n",
    "zz = np.array([0.])\n",
    "\n",
    "# create coordinate arrays to compute force vector at\n",
    "psep, zsep = np.meshgrid(pp - pb, zz - zb, indexing='ij')\n",
    "rsep = rb - r\n",
    "\n",
    "# separation between attractor mesh and bead\n",
    "sep = np.sqrt((rb**2) + (r**2) - 2*rb*r*np.cos(psep) + zsep**2)\n",
    "\n",
    "# separation in only r,phi\n",
    "sep_rp = np.sqrt((rb**2) + (r**2) - 2*rb*r*np.cos(psep))\n",
    "\n",
    "# get full vector force at every point in meshgrid (i.e. every r,phi,z in partition)\n",
    "full_vec_force = -1.0 * (4.*G*dm_arr*rhob*np.pi*Rb**3)/(3.*sep**2)\n",
    "\n",
    "# add 1% white noise\n",
    "# full_vec_force += np.random.randn()*full_vec_force/100\n",
    "\n",
    "# get projections onto each unit vector and sum the force at all points on the partition\n",
    "Fg[0] += np.sum(full_vec_force * (rb-r*np.cos(psep))/sep_rp)\n",
    "Fg[1] += np.sum(full_vec_force * (r*np.sin(psep))/sep_rp)\n",
    "Fg[2] += np.sum(full_vec_force * (zsep/sep))   \n",
    "\n",
    "print(Fg)"
   ]
  },
  {
   "cell_type": "code",
   "execution_count": 39,
   "metadata": {},
   "outputs": [
    {
     "data": {
      "text/plain": [
       "1.9299999999999997e-14"
      ]
     },
     "execution_count": 39,
     "metadata": {},
     "output_type": "execute_result"
    }
   ],
   "source": [
    "(1e-6)**3*rho_attractor"
   ]
  },
  {
   "cell_type": "code",
   "execution_count": 41,
   "metadata": {},
   "outputs": [
    {
     "data": {
      "text/plain": [
       "4.2521749781652167e-13"
      ]
     },
     "execution_count": 41,
     "metadata": {},
     "output_type": "execute_result"
    }
   ],
   "source": [
    "(4/3)*np.pi*(Rb*1e-6)**3 * rhob"
   ]
  },
  {
   "cell_type": "code",
   "execution_count": 80,
   "metadata": {},
   "outputs": [
    {
     "data": {
      "text/plain": [
       "(array([[0.00014142],\n",
       "        [0.00014142]]),\n",
       " 0.0001414213562373095)"
      ]
     },
     "execution_count": 80,
     "metadata": {},
     "output_type": "execute_result"
    }
   ],
   "source": [
    "sep, np.sqrt(2)*100e-6"
   ]
  },
  {
   "cell_type": "code",
   "execution_count": 81,
   "metadata": {},
   "outputs": [
    {
     "data": {
      "text/plain": [
       "array([[-1.61523677e-15],\n",
       "       [-1.61523677e-15]])"
      ]
     },
     "execution_count": 81,
     "metadata": {},
     "output_type": "execute_result"
    }
   ],
   "source": [
    "full_vec_force"
   ]
  },
  {
   "cell_type": "code",
   "execution_count": 87,
   "metadata": {},
   "outputs": [
    {
     "data": {
      "text/plain": [
       "1.6152367728738021e-15"
      ]
     },
     "execution_count": 87,
     "metadata": {},
     "output_type": "execute_result"
    }
   ],
   "source": [
    "fullF = 6.67e-11*mb*0.5/(np.sqrt(2)*100e-6)**2\n",
    "fullF"
   ]
  },
  {
   "cell_type": "code",
   "execution_count": 88,
   "metadata": {},
   "outputs": [
    {
     "data": {
      "text/plain": [
       "1.142144875320941e-15"
      ]
     },
     "execution_count": 88,
     "metadata": {},
     "output_type": "execute_result"
    }
   ],
   "source": [
    "np.cos(np.pi/4)*fullF"
   ]
  },
  {
   "cell_type": "code",
   "execution_count": 83,
   "metadata": {},
   "outputs": [
    {
     "data": {
      "text/plain": [
       "array([[-1.14214488e-15],\n",
       "       [-1.14214488e-15]])"
      ]
     },
     "execution_count": 83,
     "metadata": {},
     "output_type": "execute_result"
    }
   ],
   "source": [
    "full_vec_force * (rb-r*np.cos(psep))/sep_rp"
   ]
  },
  {
   "cell_type": "code",
   "execution_count": 84,
   "metadata": {},
   "outputs": [
    {
     "data": {
      "text/plain": [
       "(2, 1)"
      ]
     },
     "execution_count": 84,
     "metadata": {},
     "output_type": "execute_result"
    }
   ],
   "source": [
    "sep.shape"
   ]
  },
  {
   "cell_type": "code",
   "execution_count": 85,
   "metadata": {},
   "outputs": [
    {
     "data": {
      "text/plain": [
       "(2, 1)"
      ]
     },
     "execution_count": 85,
     "metadata": {},
     "output_type": "execute_result"
    }
   ],
   "source": [
    "dm_arr.shape"
   ]
  },
  {
   "cell_type": "code",
   "execution_count": 86,
   "metadata": {},
   "outputs": [
    {
     "data": {
      "text/plain": [
       "(2, 1)"
      ]
     },
     "execution_count": 86,
     "metadata": {},
     "output_type": "execute_result"
    }
   ],
   "source": [
    "(dm_arr/sep**2).shape"
   ]
  },
  {
   "cell_type": "code",
   "execution_count": null,
   "metadata": {},
   "outputs": [],
   "source": []
  }
 ],
 "metadata": {
  "kernelspec": {
   "display_name": "Python 3",
   "language": "python",
   "name": "python3"
  },
  "language_info": {
   "codemirror_mode": {
    "name": "ipython",
    "version": 3
   },
   "file_extension": ".py",
   "mimetype": "text/x-python",
   "name": "python",
   "nbconvert_exporter": "python",
   "pygments_lexer": "ipython3",
   "version": "3.6.9"
  }
 },
 "nbformat": 4,
 "nbformat_minor": 4
}
