{
 "cells": [
  {
   "cell_type": "code",
   "execution_count": 152,
   "metadata": {},
   "outputs": [],
   "source": [
    "import numpy as np\n",
    "import matplotlib.pyplot as plt\n",
    "from scipy.interpolate import interp2d\n",
    "\n",
    "plt.rcParams['figure.figsize'] = [12,8]"
   ]
  },
  {
   "cell_type": "code",
   "execution_count": 146,
   "metadata": {},
   "outputs": [],
   "source": [
    "attractor_r = 1\n",
    "attractor_height = 1\n",
    "\n",
    "r_slit = 2*attractor_r/3\n",
    "slit_width = attractor_r/5"
   ]
  },
  {
   "cell_type": "code",
   "execution_count": 147,
   "metadata": {},
   "outputs": [],
   "source": [
    "def get_density(r, phi, z):\n",
    "    # returns density at any r, phi, z point in space\n",
    "    # origin at center of attractor\n",
    "    \n",
    "    if r > attractor_r:\n",
    "        return 0.0\n",
    "    \n",
    "    if np.abs(z) > attractor_height/2:\n",
    "        return 0.0\n",
    "    \n",
    "    # if np.abs(r - r_slit) < slit_width/2 and (phi>=0 and phi<=np.pi/2):\n",
    "        # return 0.0\n",
    "    \n",
    "    return 1.0\n",
    "\n",
    "def build_3d_array(r_range=(-2,2), dr=0.1, \\\n",
    "                   phi_range=(0, 2*np.pi), dphi=np.pi/180, \\\n",
    "                   z_range=(-2,2), dz=0.1):\n",
    "    \n",
    "    rr = np.arange(r_range[0], r_range[1]+dr, dr)\n",
    "    pp = np.arange(phi_range[0], phi_range[1]+dphi, dphi)\n",
    "    zz = np.arange(z_range[0], z_range[1]+dz, dz)\n",
    "    \n",
    "    rho_grid = np.zeros((rr.size, pp.size, zz.size))\n",
    "    \n",
    "    for i, r in enumerate(rr):\n",
    "        for j, phi in enumerate(pp):\n",
    "            for k, z in enumerate(zz):\n",
    "                rho_grid[i,j,k] = get_density(r, phi, z)\n",
    "    \n",
    "    return rr, pp, zz, rho_grid\n",
    "\n",
    "def plot_xy_density(output_array, z_ind):\n",
    "    \n",
    "    rr, pp, zz, rho_grid = output_array\n",
    "    rho_cyl = rho_grid[:,:,z_ind]\n",
    "    rho_cart = np.zeros((2*rr.size, 2*rr.size))\n",
    "    \n",
    "    center_i = rr.size-1\n",
    "    \n",
    "    for i, r in enumerate(rr):\n",
    "        for j, phi in enumerate(pp):\n",
    "            x = r*np.cos(phi)\n",
    "            y = r*np.sin(phi)\n",
    "            \n",
    "            x_i = center_i + x*rr.size/attractor_r\n",
    "            x_i = int(round(x_i))\n",
    "            y_i = center_i + y*rr.size/attractor_r\n",
    "            y_i = int(round(y_i))\n",
    "            \n",
    "            # print(x_i, y_i)\n",
    "            try:\n",
    "                rho_cart[x_i,y_i] = rho_cyl[i,j]\n",
    "            except:\n",
    "                pass\n",
    "            \n",
    "    plt.imshow(rho_cart)"
   ]
  },
  {
   "cell_type": "code",
   "execution_count": 148,
   "metadata": {},
   "outputs": [],
   "source": [
    "output = build_3d_array()"
   ]
  },
  {
   "cell_type": "code",
   "execution_count": 150,
   "metadata": {},
   "outputs": [
    {
     "data": {
      "text/plain": [
       "<matplotlib.image.AxesImage at 0x7f77bcbe9b00>"
      ]
     },
     "execution_count": 150,
     "metadata": {},
     "output_type": "execute_result"
    },
    {
     "data": {
      "image/png": "[encoded data removed]",
      "text/plain": [
       "<Figure size 864x576 with 1 Axes>"
      ]
     },
     "metadata": {
      "needs_background": "light"
     },
     "output_type": "display_data"
    }
   ],
   "source": [
    "rho = output[3][:,:,20]\n",
    "plt.imshow(rho)"
   ]
  },
  {
   "cell_type": "code",
   "execution_count": 154,
   "metadata": {},
   "outputs": [],
   "source": [
    "test_interp = interp2d(output[0], output[1], rho.T)"
   ]
  },
  {
   "cell_type": "code",
   "execution_count": 161,
   "metadata": {},
   "outputs": [
    {
     "data": {
      "text/plain": [
       "array([1.])"
      ]
     },
     "execution_count": 161,
     "metadata": {},
     "output_type": "execute_result"
    }
   ],
   "source": [
    "test_interp(0,100)"
   ]
  },
  {
   "cell_type": "code",
   "execution_count": 130,
   "metadata": {},
   "outputs": [
    {
     "data": {
      "image/png": "[encoded data removed]",
      "text/plain": [
       "<Figure size 864x576 with 1 Axes>"
      ]
     },
     "metadata": {
      "needs_background": "light"
     },
     "output_type": "display_data"
    }
   ],
   "source": [
    "plot_xy_density(output, 20)"
   ]
  },
  {
   "cell_type": "code",
   "execution_count": 133,
   "metadata": {},
   "outputs": [
    {
     "data": {
      "text/plain": [
       "<matplotlib.image.AxesImage at 0x7f77bc2d5470>"
      ]
     },
     "execution_count": 133,
     "metadata": {},
     "output_type": "execute_result"
    },
    {
     "data": {
      "image/png": "[encoded data removed]",
      "text/plain": [
       "<Figure size 864x576 with 1 Axes>"
      ]
     },
     "metadata": {
      "needs_background": "light"
     },
     "output_type": "display_data"
    }
   ],
   "source": [
    "plt.imshow(output[3][:,:,20])"
   ]
  },
  {
   "cell_type": "code",
   "execution_count": 134,
   "metadata": {},
   "outputs": [
    {
     "ename": "TypeError",
     "evalue": "Required argument 'center' (pos 2) not found",
     "output_type": "error",
     "traceback": [
      "\u001b[0;31m---------------------------------------------------------------------------\u001b[0m",
      "\u001b[0;31mTypeError\u001b[0m                                 Traceback (most recent call last)",
      "\u001b[0;32m<ipython-input-134-efb1792c1736>\u001b[0m in \u001b[0;36m<module>\u001b[0;34m\u001b[0m\n\u001b[1;32m      1\u001b[0m \u001b[0;32mimport\u001b[0m \u001b[0mcv2\u001b[0m\u001b[0;34m\u001b[0m\u001b[0;34m\u001b[0m\u001b[0m\n\u001b[0;32m----> 2\u001b[0;31m \u001b[0mplt\u001b[0m\u001b[0;34m.\u001b[0m\u001b[0mimshow\u001b[0m\u001b[0;34m(\u001b[0m\u001b[0mcv2\u001b[0m\u001b[0;34m.\u001b[0m\u001b[0mlinearPolar\u001b[0m\u001b[0;34m(\u001b[0m\u001b[0moutput\u001b[0m\u001b[0;34m[\u001b[0m\u001b[0;36m3\u001b[0m\u001b[0;34m]\u001b[0m\u001b[0;34m[\u001b[0m\u001b[0;34m:\u001b[0m\u001b[0;34m,\u001b[0m\u001b[0;34m:\u001b[0m\u001b[0;34m,\u001b[0m\u001b[0;36m20\u001b[0m\u001b[0;34m]\u001b[0m\u001b[0;34m)\u001b[0m\u001b[0;34m)\u001b[0m\u001b[0;34m\u001b[0m\u001b[0;34m\u001b[0m\u001b[0m\n\u001b[0m",
      "\u001b[0;31mTypeError\u001b[0m: Required argument 'center' (pos 2) not found"
     ]
    }
   ],
   "source": [
    "import cv2\n",
    "plt.imshow(cv2.linearPolar(output[3][:,:,20]))"
   ]
  },
  {
   "cell_type": "code",
   "execution_count": 137,
   "metadata": {},
   "outputs": [],
   "source": [
    "def polar_to_cart(polar_data, theta_step, range_step, x, y, order=3):\n",
    "\n",
    "    from scipy.ndimage.interpolation import map_coordinates as mp\n",
    "\n",
    "    # \"x\" and \"y\" are numpy arrays with the desired cartesian coordinates\n",
    "    # we make a meshgrid with them\n",
    "    X, Y = np.meshgrid(x, y)\n",
    "\n",
    "    # Now that we have the X and Y coordinates of each point in the output plane\n",
    "    # we can calculate their corresponding theta and range\n",
    "    Tc = np.degrees(np.arctan2(Y, X)).ravel()\n",
    "    Rc = (np.sqrt(X**2 + Y**2)).ravel()\n",
    "\n",
    "    # Negative angles are corrected\n",
    "    Tc[Tc < 0] = 360 + Tc[Tc < 0]\n",
    "\n",
    "    # Using the known theta and range steps, the coordinates are mapped to\n",
    "    # those of the data grid\n",
    "    Tc = Tc / theta_step\n",
    "    Rc = Rc / range_step\n",
    "\n",
    "    # An array of polar coordinates is created stacking the previous arrays\n",
    "    coords = np.vstack((Tc, Rc))\n",
    "\n",
    "    # To avoid holes in the 360º - 0º boundary, the last column of the data\n",
    "    # copied in the begining\n",
    "    polar_data = np.vstack((polar_data, polar_data[-1,:]))\n",
    "\n",
    "    # The data is mapped to the new coordinates\n",
    "    # Values outside range are substituted with nans\n",
    "    cart_data = mp(polar_data, coords, order=order, mode='constant', cval=np.nan)\n",
    "\n",
    "    # The data is reshaped and returned\n",
    "    return(cart_data.reshape(len(y), len(x)).T)"
   ]
  },
  {
   "cell_type": "code",
   "execution_count": 138,
   "metadata": {},
   "outputs": [
    {
     "data": {
      "text/plain": [
       "array([[nan, nan, nan, ..., nan, nan, nan],\n",
       "       [nan, nan, nan, ..., nan, nan, nan],\n",
       "       [nan, nan, nan, ..., nan, nan, nan],\n",
       "       ...,\n",
       "       [nan, nan, nan, ..., nan, nan, nan],\n",
       "       [nan, nan, nan, ..., nan, nan, nan],\n",
       "       [nan, nan, nan, ..., nan, nan, nan]])"
      ]
     },
     "execution_count": 138,
     "metadata": {},
     "output_type": "execute_result"
    }
   ],
   "source": [
    "polar_to_cart(output[3][:,:,20], np.pi/180, 0.1, np.linspace(-2,2, 50), np.linspace(-2,2,50))"
   ]
  },
  {
   "cell_type": "code",
   "execution_count": 144,
   "metadata": {},
   "outputs": [
    {
     "data": {
      "text/plain": [
       "\u001b[0;31mDocstring:\u001b[0m\n",
       "linearPolar(src, center, maxRadius, flags[, dst]) -> dst\n",
       ".   @brief Remaps an image to polar coordinates space.\n",
       ".   \n",
       ".   @deprecated This function produces same result as cv::warpPolar(src, dst, src.size(), center, maxRadius, flags)\n",
       ".   \n",
       ".   @internal\n",
       ".   Transform the source image using the following transformation (See @ref polar_remaps_reference_image \"Polar remaps reference image c)\"):\n",
       ".   \\f[\\begin{array}{l}\n",
       ".     dst( \\rho , \\phi ) = src(x,y) \\\\\n",
       ".     dst.size() \\leftarrow src.size()\n",
       ".   \\end{array}\\f]\n",
       ".   \n",
       ".   where\n",
       ".   \\f[\\begin{array}{l}\n",
       ".     I = (dx,dy) = (x - center.x,y - center.y) \\\\\n",
       ".     \\rho = Kmag \\cdot \\texttt{magnitude} (I) ,\\\\\n",
       ".     \\phi = angle \\cdot \\texttt{angle} (I)\n",
       ".   \\end{array}\\f]\n",
       ".   \n",
       ".   and\n",
       ".   \\f[\\begin{array}{l}\n",
       ".     Kx = src.cols / maxRadius \\\\\n",
       ".     Ky = src.rows / 2\\Pi\n",
       ".   \\end{array}\\f]\n",
       ".   \n",
       ".   \n",
       ".   @param src Source image\n",
       ".   @param dst Destination image. It will have same size and type as src.\n",
       ".   @param center The transformation center;\n",
       ".   @param maxRadius The radius of the bounding circle to transform. It determines the inverse magnitude scale parameter too.\n",
       ".   @param flags A combination of interpolation methods, see #InterpolationFlags\n",
       ".   \n",
       ".   @note\n",
       ".   -   The function can not operate in-place.\n",
       ".   -   To calculate magnitude and angle in degrees #cartToPolar is used internally thus angles are measured from 0 to 360 with accuracy about 0.3 degrees.\n",
       ".   \n",
       ".   @sa cv::logPolar\n",
       ".   @endinternal\n",
       "\u001b[0;31mType:\u001b[0m      builtin_function_or_method\n"
      ]
     },
     "metadata": {},
     "output_type": "display_data"
    }
   ],
   "source": [
    "from cv2 import linearPolar\n",
    "?linearPolar"
   ]
  },
  {
   "cell_type": "code",
   "execution_count": null,
   "metadata": {},
   "outputs": [],
   "source": []
  }
 ],
 "metadata": {
  "kernelspec": {
   "display_name": "Python 3",
   "language": "python",
   "name": "python3"
  },
  "language_info": {
   "codemirror_mode": {
    "name": "ipython",
    "version": 3
   },
   "file_extension": ".py",
   "mimetype": "text/x-python",
   "name": "python",
   "nbconvert_exporter": "python",
   "pygments_lexer": "ipython3",
   "version": "3.6.9"
  }
 },
 "nbformat": 4,
 "nbformat_minor": 4
}
